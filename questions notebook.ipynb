{
    "metadata": {
        "kernelspec": {
            "name": "SQL",
            "display_name": "SQL",
            "language": "sql"
        },
        "language_info": {
            "name": "sql",
            "version": ""
        }
    },
    "nbformat_minor": 2,
    "nbformat": 4,
    "cells": [
        {
            "cell_type": "markdown",
            "source": [
                "# **Introduction**\n",
                "\n",
                "_Welcome to the chinook notbook._\n",
                "\n",
                "_After creating the chinbook database and importing the data records into it, Now there's several questions needs to be answered which in return requires to write some queries._\n",
                "\n",
                "## **_Questions :_**\n",
                "\n",
                "- _Which artist has earned the most according to the InvoiceLine ?_\n",
                "- _Which artists has created the most amount of albums ?_\n",
                "- _What is the most sold genre ?_\n",
                "- _What is the most popular genres per country ?_"
            ],
            "metadata": {
                "azdata_cell_guid": "f1775a00-c93b-4ffa-9396-66d41bf8ded0"
            }
        },
        {
            "cell_type": "markdown",
            "source": [
                "## **_1- Which artist has earned the most according to the InvoiceLine?_**"
            ],
            "metadata": {
                "azdata_cell_guid": "018652f7-21aa-40bc-89f6-4fb0747ddce0"
            }
        },
        {
            "cell_type": "code",
            "source": [
                "SELECT table_d.Name, sum(table_a.UnitPrice) as 'Amount spent'\r\n",
                "FROM InvoiceLine AS table_a\r\n",
                "INNER JOIN Track AS table_b\r\n",
                "ON table_b.TrackId = table_a.TrackId\r\n",
                "INNER JOIN Album AS table_c\r\n",
                "ON table_c.AlbumId = table_b.AlbumId\r\n",
                "INNER JOIN Artist AS table_d\r\n",
                "ON table_d.ArtistId = table_c.ArtistId\r\n",
                "GROUP BY  table_d.Name\r\n",
                "ORDER BY 2 DESC\r\n",
                "OFFSET 0 ROWS\r\n",
                "FETCH NEXT 10 ROWS only;"
            ],
            "metadata": {
                "azdata_cell_guid": "31aa1610-6684-4231-af7f-c44943bc501f",
                "tags": []
            },
            "outputs": [
                {
                    "output_type": "display_data",
                    "data": {
                        "text/html": "(10 rows affected)"
                    },
                    "metadata": {}
                },
                {
                    "output_type": "display_data",
                    "data": {
                        "text/html": "Total execution time: 00:00:00.011"
                    },
                    "metadata": {}
                },
                {
                    "output_type": "execute_result",
                    "execution_count": 6,
                    "data": {
                        "application/vnd.dataresource+json": {
                            "schema": {
                                "fields": [
                                    {
                                        "name": "Name"
                                    },
                                    {
                                        "name": "Amount spent"
                                    }
                                ]
                            },
                            "data": [
                                {
                                    "0": "Iron Maiden",
                                    "1": "138.60"
                                },
                                {
                                    "0": "U2",
                                    "1": "105.93"
                                },
                                {
                                    "0": "Metallica",
                                    "1": "90.09"
                                },
                                {
                                    "0": "Led Zeppelin",
                                    "1": "86.13"
                                },
                                {
                                    "0": "Lost",
                                    "1": "81.59"
                                },
                                {
                                    "0": "The Office",
                                    "1": "49.75"
                                },
                                {
                                    "0": "Os Paralamas Do Sucesso",
                                    "1": "44.55"
                                },
                                {
                                    "0": "Deep Purple",
                                    "1": "43.56"
                                },
                                {
                                    "0": "Faith No More",
                                    "1": "41.58"
                                },
                                {
                                    "0": "Eric Clapton",
                                    "1": "39.60"
                                }
                            ]
                        },
                        "text/html": "<table><tr><th>Name</th><th>Amount spent</th></tr><tr><td>Iron Maiden</td><td>138.60</td></tr><tr><td>U2</td><td>105.93</td></tr><tr><td>Metallica</td><td>90.09</td></tr><tr><td>Led Zeppelin</td><td>86.13</td></tr><tr><td>Lost</td><td>81.59</td></tr><tr><td>The Office</td><td>49.75</td></tr><tr><td>Os Paralamas Do Sucesso</td><td>44.55</td></tr><tr><td>Deep Purple</td><td>43.56</td></tr><tr><td>Faith No More</td><td>41.58</td></tr><tr><td>Eric Clapton</td><td>39.60</td></tr></table>"
                    },
                    "metadata": {
                        "azdata_chartOptions": {
                            "type": "bar",
                            "dataDirection": "vertical",
                            "columnsAsLabels": true,
                            "labelFirstColumn": true,
                            "legendPosition": "none",
                            "yAxisLabel": "Earnings"
                        }
                    }
                }
            ],
            "execution_count": 6
        },
        {
            "cell_type": "markdown",
            "source": [
                "_We can see that iron maiden is the_ _artist with the most earnings._"
            ],
            "metadata": {
                "azdata_cell_guid": "471a5c9e-d1dd-4da1-b27f-61c881e9c989"
            }
        },
        {
            "cell_type": "markdown",
            "source": [
                "## **_2- Which artists has created the most amount of albums ?_**"
            ],
            "metadata": {
                "azdata_cell_guid": "ed4c49bc-c37e-48b6-b2c1-efd0d1cb6b38"
            }
        },
        {
            "cell_type": "code",
            "source": [
                "SELECT table_a.name, count(table_b.title) as 'Number of Albums'\r\n",
                "FROM Artist table_a\r\n",
                "JOIN Album table_b\r\n",
                "on table_a.ArtistId = table_b.ArtistId\r\n",
                "GROUP by table_a.name\r\n",
                "order by count(table_b.title) DESC\r\n",
                "OFFSET 0 ROWS\r\n",
                "FETCH NEXT 10 ROWS only;"
            ],
            "metadata": {
                "azdata_cell_guid": "0a40eeff-c076-4bab-85a5-e44533db0c68",
                "tags": []
            },
            "outputs": [
                {
                    "output_type": "display_data",
                    "data": {
                        "text/html": "(10 rows affected)"
                    },
                    "metadata": {}
                },
                {
                    "output_type": "display_data",
                    "data": {
                        "text/html": "Total execution time: 00:00:00.006"
                    },
                    "metadata": {}
                },
                {
                    "output_type": "execute_result",
                    "metadata": {
                        "azdata_chartOptions": {
                            "type": "bar",
                            "dataDirection": "vertical",
                            "columnsAsLabels": true,
                            "labelFirstColumn": false,
                            "legendPosition": "none",
                            "yAxisLabel": "Number of Albums"
                        }
                    },
                    "execution_count": 2,
                    "data": {
                        "application/vnd.dataresource+json": {
                            "schema": {
                                "fields": [
                                    {
                                        "name": "name"
                                    },
                                    {
                                        "name": "Number of Albums"
                                    }
                                ]
                            },
                            "data": [
                                {
                                    "0": "Iron Maiden",
                                    "1": "21"
                                },
                                {
                                    "0": "Led Zeppelin",
                                    "1": "14"
                                },
                                {
                                    "0": "Deep Purple",
                                    "1": "11"
                                },
                                {
                                    "0": "Metallica",
                                    "1": "10"
                                },
                                {
                                    "0": "U2",
                                    "1": "10"
                                },
                                {
                                    "0": "Ozzy Osbourne",
                                    "1": "6"
                                },
                                {
                                    "0": "Pearl Jam",
                                    "1": "5"
                                },
                                {
                                    "0": "Faith No More",
                                    "1": "4"
                                },
                                {
                                    "0": "Foo Fighters",
                                    "1": "4"
                                },
                                {
                                    "0": "Lost",
                                    "1": "4"
                                }
                            ]
                        },
                        "text/html": [
                            "<table>",
                            "<tr><th>name</th><th>Number of Albums</th></tr>",
                            "<tr><td>Iron Maiden</td><td>21</td></tr>",
                            "<tr><td>Led Zeppelin</td><td>14</td></tr>",
                            "<tr><td>Deep Purple</td><td>11</td></tr>",
                            "<tr><td>Metallica</td><td>10</td></tr>",
                            "<tr><td>U2</td><td>10</td></tr>",
                            "<tr><td>Ozzy Osbourne</td><td>6</td></tr>",
                            "<tr><td>Pearl Jam</td><td>5</td></tr>",
                            "<tr><td>Faith No More</td><td>4</td></tr>",
                            "<tr><td>Foo Fighters</td><td>4</td></tr>",
                            "<tr><td>Lost</td><td>4</td></tr>",
                            "</table>"
                        ]
                    }
                }
            ],
            "execution_count": 2
        },
        {
            "cell_type": "markdown",
            "source": [
                "_It can be noticed here that the artist with the most released albums is “iron maisen”._"
            ],
            "metadata": {
                "azdata_cell_guid": "28e4c2a6-baa7-439a-9749-c3882ea0eb53"
            }
        },
        {
            "cell_type": "markdown",
            "source": [
                "## **_3- What is the most sold genre ?_**"
            ],
            "metadata": {
                "azdata_cell_guid": "49577345-ceb9-4920-846d-f70a334f2b57"
            }
        },
        {
            "cell_type": "code",
            "source": [
                "SELECT table_a.Name, SUM(table_c.UnitPrice)\r\n",
                "FROM Genre table_a\r\n",
                "JOIN Track table_b\r\n",
                "ON table_a.GenreId = table_b.GenreId\r\n",
                "JOIN InvoiceLine table_c\r\n",
                "ON table_c.TrackId = table_b.TrackId\r\n",
                "GROUP BY table_a.Name\r\n",
                "ORDER BY SUM(table_c.UnitPrice) DESC;"
            ],
            "metadata": {
                "azdata_cell_guid": "4484867c-551e-4a35-81b3-53d97ca82e6a"
            },
            "outputs": [
                {
                    "output_type": "display_data",
                    "data": {
                        "text/html": "(24 rows affected)"
                    },
                    "metadata": {}
                },
                {
                    "output_type": "display_data",
                    "data": {
                        "text/html": "Total execution time: 00:00:00.027"
                    },
                    "metadata": {}
                },
                {
                    "output_type": "execute_result",
                    "metadata": {
                        "azdata_chartOptions": {
                            "type": "pie",
                            "dataDirection": "vertical",
                            "columnsAsLabels": true,
                            "labelFirstColumn": false,
                            "legendPosition": "bottom",
                            "dataType": "number"
                        }
                    },
                    "execution_count": 3,
                    "data": {
                        "application/vnd.dataresource+json": {
                            "schema": {
                                "fields": [
                                    {
                                        "name": "Name"
                                    },
                                    {
                                        "name": "(No column name)"
                                    }
                                ]
                            },
                            "data": [
                                {
                                    "0": "Rock",
                                    "1": "826.65"
                                },
                                {
                                    "0": "Latin",
                                    "1": "382.14"
                                },
                                {
                                    "0": "Metal",
                                    "1": "261.36"
                                },
                                {
                                    "0": "Alternative & Punk",
                                    "1": "241.56"
                                },
                                {
                                    "0": "TV Shows",
                                    "1": "93.53"
                                },
                                {
                                    "0": "Jazz",
                                    "1": "79.20"
                                },
                                {
                                    "0": "Blues",
                                    "1": "60.39"
                                },
                                {
                                    "0": "Drama",
                                    "1": "57.71"
                                },
                                {
                                    "0": "R&B/Soul",
                                    "1": "40.59"
                                },
                                {
                                    "0": "Classical",
                                    "1": "40.59"
                                },
                                {
                                    "0": "Sci Fi & Fantasy",
                                    "1": "39.80"
                                },
                                {
                                    "0": "Reggae",
                                    "1": "29.70"
                                },
                                {
                                    "0": "Pop",
                                    "1": "27.72"
                                },
                                {
                                    "0": "Soundtrack",
                                    "1": "19.80"
                                },
                                {
                                    "0": "Comedy",
                                    "1": "17.91"
                                },
                                {
                                    "0": "Hip Hop/Rap",
                                    "1": "16.83"
                                },
                                {
                                    "0": "Bossa Nova",
                                    "1": "14.85"
                                },
                                {
                                    "0": "Alternative",
                                    "1": "13.86"
                                },
                                {
                                    "0": "World",
                                    "1": "12.87"
                                },
                                {
                                    "0": "Science Fiction",
                                    "1": "11.94"
                                },
                                {
                                    "0": "Heavy Metal",
                                    "1": "11.88"
                                },
                                {
                                    "0": "Electronica/Dance",
                                    "1": "11.88"
                                },
                                {
                                    "0": "Easy Listening",
                                    "1": "9.90"
                                },
                                {
                                    "0": "Rock And Roll",
                                    "1": "5.94"
                                }
                            ]
                        },
                        "text/html": [
                            "<table>",
                            "<tr><th>Name</th><th>(No column name)</th></tr>",
                            "<tr><td>Rock</td><td>826.65</td></tr>",
                            "<tr><td>Latin</td><td>382.14</td></tr>",
                            "<tr><td>Metal</td><td>261.36</td></tr>",
                            "<tr><td>Alternative &amp; Punk</td><td>241.56</td></tr>",
                            "<tr><td>TV Shows</td><td>93.53</td></tr>",
                            "<tr><td>Jazz</td><td>79.20</td></tr>",
                            "<tr><td>Blues</td><td>60.39</td></tr>",
                            "<tr><td>Drama</td><td>57.71</td></tr>",
                            "<tr><td>R&amp;B/Soul</td><td>40.59</td></tr>",
                            "<tr><td>Classical</td><td>40.59</td></tr>",
                            "<tr><td>Sci Fi &amp; Fantasy</td><td>39.80</td></tr>",
                            "<tr><td>Reggae</td><td>29.70</td></tr>",
                            "<tr><td>Pop</td><td>27.72</td></tr>",
                            "<tr><td>Soundtrack</td><td>19.80</td></tr>",
                            "<tr><td>Comedy</td><td>17.91</td></tr>",
                            "<tr><td>Hip Hop/Rap</td><td>16.83</td></tr>",
                            "<tr><td>Bossa Nova</td><td>14.85</td></tr>",
                            "<tr><td>Alternative</td><td>13.86</td></tr>",
                            "<tr><td>World</td><td>12.87</td></tr>",
                            "<tr><td>Science Fiction</td><td>11.94</td></tr>",
                            "<tr><td>Heavy Metal</td><td>11.88</td></tr>",
                            "<tr><td>Electronica/Dance</td><td>11.88</td></tr>",
                            "<tr><td>Easy Listening</td><td>9.90</td></tr>",
                            "<tr><td>Rock And Roll</td><td>5.94</td></tr>",
                            "</table>"
                        ]
                    }
                }
            ],
            "execution_count": 3
        },
        {
            "cell_type": "markdown",
            "source": [
                "_The most sold genre type is Rock .Also Latin, Metal and Alternative & punk have taken large areas of the pie chart._"
            ],
            "metadata": {
                "azdata_cell_guid": "ee76a574-5d81-4ce9-84f8-f62d8d7366ac"
            }
        },
        {
            "cell_type": "markdown",
            "source": [
                "## **_4- What is the most popular genres per country ?_**"
            ],
            "metadata": {
                "azdata_cell_guid": "e35c2d89-58b2-4023-92b1-501955b4dd68"
            }
        },
        {
            "cell_type": "code",
            "source": [
                "WITH genres as \r\n",
                "(SELECT namee, MAX(num) AS largest\r\n",
                "from \r\n",
                "(SELECT table_e.country AS namee, table_a.Name,count(table_a.Name) AS num\r\n",
                "FROM Genre table_a\r\n",
                "JOIN Track table_b\r\n",
                "ON table_a.GenreId = table_b.GenreId\r\n",
                "JOIN InvoiceLine table_c\r\n",
                "ON table_c.TrackId = table_b.TrackId\r\n",
                "JOIN Invoice table_d\r\n",
                "ON table_d.InvoiceId = table_c.InvoiceId\r\n",
                "JOIN Customer table_e\r\n",
                "on table_e.CustomerId = table_d.CustomerId\r\n",
                "GROUP by table_e.country , table_a.Name) AS t1\r\n",
                "GROUP BY namee)\r\n",
                "SELECT table_k.country AS namee, table_f.Name, COUNT(table_f.Name) AS num\r\n",
                "FROM Genre table_f\r\n",
                "JOIN Track table_q\r\n",
                "ON table_f.GenreId = table_q.GenreId\r\n",
                "JOIN InvoiceLine table_w\r\n",
                "ON table_w.TrackId = table_q.TrackId\r\n",
                "JOIN Invoice table_h\r\n",
                "ON table_h.InvoiceId = table_w.InvoiceId\r\n",
                "JOIN Customer table_k\r\n",
                "on table_k.CustomerId = table_h.CustomerId\r\n",
                "JOIN genres table_x\r\n",
                "on table_x.Namee = table_k.Country\r\n",
                "GROUP by table_k.country , table_f.Name\r\n",
                "HAVING MAX(table_x.largest) = count(table_f.name) \r\n",
                "ORDER BY count(table_f.Name) DESC\r\n",
                "OFFSET 0 ROWS\r\n",
                "FETCH NEXT 24 ROWS only;"
            ],
            "metadata": {
                "azdata_cell_guid": "0e39b603-1239-4d4b-889c-6104c84660be"
            },
            "outputs": [
                {
                    "output_type": "display_data",
                    "data": {
                        "text/html": "(24 rows affected)"
                    },
                    "metadata": {}
                },
                {
                    "output_type": "display_data",
                    "data": {
                        "text/html": "Total execution time: 00:00:00.064"
                    },
                    "metadata": {}
                },
                {
                    "output_type": "execute_result",
                    "metadata": {
                        "azdata_chartOptions": {
                            "type": "bar",
                            "dataDirection": "vertical",
                            "columnsAsLabels": true,
                            "labelFirstColumn": false,
                            "legendPosition": "none",
                            "yAxisLabel": "Rock Popularity"
                        }
                    },
                    "execution_count": 11,
                    "data": {
                        "application/vnd.dataresource+json": {
                            "schema": {
                                "fields": [
                                    {
                                        "name": "namee"
                                    },
                                    {
                                        "name": "Name"
                                    },
                                    {
                                        "name": "num"
                                    }
                                ]
                            },
                            "data": [
                                {
                                    "0": "USA",
                                    "1": "Rock",
                                    "2": "157"
                                },
                                {
                                    "0": "Canada",
                                    "1": "Rock",
                                    "2": "107"
                                },
                                {
                                    "0": "Brazil",
                                    "1": "Rock",
                                    "2": "81"
                                },
                                {
                                    "0": "France",
                                    "1": "Rock",
                                    "2": "65"
                                },
                                {
                                    "0": "Germany",
                                    "1": "Rock",
                                    "2": "62"
                                },
                                {
                                    "0": "United Kingdom",
                                    "1": "Rock",
                                    "2": "37"
                                },
                                {
                                    "0": "Portugal",
                                    "1": "Rock",
                                    "2": "31"
                                },
                                {
                                    "0": "Czech Republic",
                                    "1": "Rock",
                                    "2": "25"
                                },
                                {
                                    "0": "India",
                                    "1": "Rock",
                                    "2": "25"
                                },
                                {
                                    "0": "Spain",
                                    "1": "Rock",
                                    "2": "22"
                                },
                                {
                                    "0": "Poland",
                                    "1": "Rock",
                                    "2": "22"
                                },
                                {
                                    "0": "Australia",
                                    "1": "Rock",
                                    "2": "22"
                                },
                                {
                                    "0": "Belgium",
                                    "1": "Rock",
                                    "2": "21"
                                },
                                {
                                    "0": "Denmark",
                                    "1": "Rock",
                                    "2": "21"
                                },
                                {
                                    "0": "Finland",
                                    "1": "Rock",
                                    "2": "18"
                                },
                                {
                                    "0": "Netherlands",
                                    "1": "Rock",
                                    "2": "18"
                                },
                                {
                                    "0": "Italy",
                                    "1": "Rock",
                                    "2": "18"
                                },
                                {
                                    "0": "Norway",
                                    "1": "Rock",
                                    "2": "17"
                                },
                                {
                                    "0": "Austria",
                                    "1": "Rock",
                                    "2": "15"
                                },
                                {
                                    "0": "Ireland",
                                    "1": "Rock",
                                    "2": "12"
                                },
                                {
                                    "0": "Sweden",
                                    "1": "Latin",
                                    "2": "12"
                                },
                                {
                                    "0": "Hungary",
                                    "1": "Rock",
                                    "2": "11"
                                },
                                {
                                    "0": "Chile",
                                    "1": "Rock",
                                    "2": "9"
                                },
                                {
                                    "0": "Argentina",
                                    "1": "Rock",
                                    "2": "9"
                                }
                            ]
                        },
                        "text/html": [
                            "<table>",
                            "<tr><th>namee</th><th>Name</th><th>num</th></tr>",
                            "<tr><td>USA</td><td>Rock</td><td>157</td></tr>",
                            "<tr><td>Canada</td><td>Rock</td><td>107</td></tr>",
                            "<tr><td>Brazil</td><td>Rock</td><td>81</td></tr>",
                            "<tr><td>France</td><td>Rock</td><td>65</td></tr>",
                            "<tr><td>Germany</td><td>Rock</td><td>62</td></tr>",
                            "<tr><td>United Kingdom</td><td>Rock</td><td>37</td></tr>",
                            "<tr><td>Portugal</td><td>Rock</td><td>31</td></tr>",
                            "<tr><td>Czech Republic</td><td>Rock</td><td>25</td></tr>",
                            "<tr><td>India</td><td>Rock</td><td>25</td></tr>",
                            "<tr><td>Spain</td><td>Rock</td><td>22</td></tr>",
                            "<tr><td>Poland</td><td>Rock</td><td>22</td></tr>",
                            "<tr><td>Australia</td><td>Rock</td><td>22</td></tr>",
                            "<tr><td>Belgium</td><td>Rock</td><td>21</td></tr>",
                            "<tr><td>Denmark</td><td>Rock</td><td>21</td></tr>",
                            "<tr><td>Finland</td><td>Rock</td><td>18</td></tr>",
                            "<tr><td>Netherlands</td><td>Rock</td><td>18</td></tr>",
                            "<tr><td>Italy</td><td>Rock</td><td>18</td></tr>",
                            "<tr><td>Norway</td><td>Rock</td><td>17</td></tr>",
                            "<tr><td>Austria</td><td>Rock</td><td>15</td></tr>",
                            "<tr><td>Ireland</td><td>Rock</td><td>12</td></tr>",
                            "<tr><td>Sweden</td><td>Latin</td><td>12</td></tr>",
                            "<tr><td>Hungary</td><td>Rock</td><td>11</td></tr>",
                            "<tr><td>Chile</td><td>Rock</td><td>9</td></tr>",
                            "<tr><td>Argentina</td><td>Rock</td><td>9</td></tr>",
                            "</table>"
                        ]
                    }
                }
            ],
            "execution_count": 11
        },
        {
            "cell_type": "markdown",
            "source": [
                "_Sounds like Rock is the most popular genre for 24 countries._"
            ],
            "metadata": {
                "azdata_cell_guid": "c7aa2da7-233b-41c6-b6a8-402cb627e1a0"
            }
        }
    ]
}